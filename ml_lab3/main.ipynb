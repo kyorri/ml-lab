{
 "cells": [
  {
   "cell_type": "code",
   "execution_count": 1,
   "metadata": {},
   "outputs": [],
   "source": [
    "import numpy as np\n",
    "import pandas as pd\n",
    "import matplotlib.pyplot as plt\n",
    "import seaborn as sns"
   ]
  },
  {
   "cell_type": "code",
   "execution_count": 2,
   "metadata": {},
   "outputs": [],
   "source": [
    "data = pd.read_csv(r'dataset\\ecommerceDataset.csv', header=None)"
   ]
  },
  {
   "cell_type": "code",
   "execution_count": 3,
   "metadata": {},
   "outputs": [
    {
     "data": {
      "text/html": [
       "<div>\n",
       "<style scoped>\n",
       "    .dataframe tbody tr th:only-of-type {\n",
       "        vertical-align: middle;\n",
       "    }\n",
       "\n",
       "    .dataframe tbody tr th {\n",
       "        vertical-align: top;\n",
       "    }\n",
       "\n",
       "    .dataframe thead th {\n",
       "        text-align: right;\n",
       "    }\n",
       "</style>\n",
       "<table border=\"1\" class=\"dataframe\">\n",
       "  <thead>\n",
       "    <tr style=\"text-align: right;\">\n",
       "      <th></th>\n",
       "      <th>0</th>\n",
       "      <th>1</th>\n",
       "    </tr>\n",
       "  </thead>\n",
       "  <tbody>\n",
       "    <tr>\n",
       "      <th>0</th>\n",
       "      <td>Household</td>\n",
       "      <td>Paper Plane Design Framed Wall Hanging Motivat...</td>\n",
       "    </tr>\n",
       "    <tr>\n",
       "      <th>1</th>\n",
       "      <td>Household</td>\n",
       "      <td>SAF 'Floral' Framed Painting (Wood, 30 inch x ...</td>\n",
       "    </tr>\n",
       "  </tbody>\n",
       "</table>\n",
       "</div>"
      ],
      "text/plain": [
       "           0                                                  1\n",
       "0  Household  Paper Plane Design Framed Wall Hanging Motivat...\n",
       "1  Household  SAF 'Floral' Framed Painting (Wood, 30 inch x ..."
      ]
     },
     "execution_count": 3,
     "metadata": {},
     "output_type": "execute_result"
    }
   ],
   "source": [
    "data.head(2)"
   ]
  },
  {
   "cell_type": "code",
   "execution_count": 4,
   "metadata": {},
   "outputs": [],
   "source": [
    "X = category_column = data.iloc[:, 1]\n",
    "y = description_column = data.iloc[:, 0]"
   ]
  },
  {
   "cell_type": "code",
   "execution_count": 5,
   "metadata": {},
   "outputs": [
    {
     "data": {
      "text/plain": [
       "(np.int64(1), np.int64(0))"
      ]
     },
     "execution_count": 5,
     "metadata": {},
     "output_type": "execute_result"
    }
   ],
   "source": [
    "X.isnull().sum(), y.isnull().sum()"
   ]
  },
  {
   "cell_type": "code",
   "execution_count": 6,
   "metadata": {},
   "outputs": [
    {
     "data": {
      "text/plain": [
       "0        Paper Plane Design Framed Wall Hanging Motivat...\n",
       "1        SAF 'Floral' Framed Painting (Wood, 30 inch x ...\n",
       "2        SAF 'UV Textured Modern Art Print Framed' Pain...\n",
       "3        SAF Flower Print Framed Painting (Synthetic, 1...\n",
       "4        Incredible Gifts India Wooden Happy Birthday U...\n",
       "                               ...                        \n",
       "50420    Strontium MicroSD Class 10 8GB Memory Card (Bl...\n",
       "50421    CrossBeats Wave Waterproof Bluetooth Wireless ...\n",
       "50422    Karbonn Titanium Wind W4 (White) Karbonn Titan...\n",
       "50423    Samsung Guru FM Plus (SM-B110E/D, Black) Colou...\n",
       "50424                     Micromax Canvas Win W121 (White)\n",
       "Name: 1, Length: 50425, dtype: object"
      ]
     },
     "execution_count": 6,
     "metadata": {},
     "output_type": "execute_result"
    }
   ],
   "source": [
    "X"
   ]
  },
  {
   "cell_type": "code",
   "execution_count": 7,
   "metadata": {},
   "outputs": [
    {
     "data": {
      "text/plain": [
       "0          Household\n",
       "1          Household\n",
       "2          Household\n",
       "3          Household\n",
       "4          Household\n",
       "            ...     \n",
       "50420    Electronics\n",
       "50421    Electronics\n",
       "50422    Electronics\n",
       "50423    Electronics\n",
       "50424    Electronics\n",
       "Name: 0, Length: 50425, dtype: object"
      ]
     },
     "execution_count": 7,
     "metadata": {},
     "output_type": "execute_result"
    }
   ],
   "source": [
    "y"
   ]
  },
  {
   "cell_type": "code",
   "execution_count": 8,
   "metadata": {},
   "outputs": [],
   "source": [
    "from sklearn.model_selection import train_test_split\n",
    "from sklearn.feature_extraction.text import TfidfVectorizer\n",
    "from sklearn.naive_bayes import MultinomialNB\n",
    "from sklearn.tree import DecisionTreeClassifier\n",
    "from sklearn.metrics import accuracy_score, classification_report\n",
    "\n",
    "X = X.fillna('')\n",
    "y = y.fillna('')\n",
    "\n",
    "X_train, X_test, y_train, y_test = train_test_split(X, y, test_size=0.2, random_state=42)\n",
    "\n",
    "tfidf_vectorizer = TfidfVectorizer(stop_words='english')\n",
    "X_train_tfidf = tfidf_vectorizer.fit_transform(X_train)\n",
    "X_test_tfidf = tfidf_vectorizer.transform(X_test)\n"
   ]
  },
  {
   "cell_type": "code",
   "execution_count": 9,
   "metadata": {},
   "outputs": [
    {
     "name": "stdout",
     "output_type": "stream",
     "text": [
      "Accuracy score for Multinomial NB: 0.9430837878036689\n",
      "\n",
      "                        precision    recall  f1-score   support\n",
      "\n",
      "                 Books       0.97      0.91      0.94      2387\n",
      "Clothing & Accessories       0.98      0.95      0.96      1744\n",
      "           Electronics       0.96      0.90      0.93      2067\n",
      "             Household       0.91      0.98      0.94      3887\n",
      "\n",
      "              accuracy                           0.94     10085\n",
      "             macro avg       0.95      0.94      0.94     10085\n",
      "          weighted avg       0.94      0.94      0.94     10085\n",
      "\n"
     ]
    }
   ],
   "source": [
    "nb_model = MultinomialNB()\n",
    "nb_model.fit(X_train_tfidf, y_train)\n",
    "nb_predictions = nb_model.predict(X_test_tfidf)\n",
    "\n",
    "print(f\"Accuracy score for Multinomial NB: {accuracy_score(y_test, nb_predictions)}\")\n",
    "print()\n",
    "print(classification_report(y_test, nb_predictions))"
   ]
  },
  {
   "cell_type": "code",
   "execution_count": 10,
   "metadata": {},
   "outputs": [
    {
     "name": "stdout",
     "output_type": "stream",
     "text": [
      "Accuracy score for Decision Tree Model: 0.9499256321269212\n",
      "\n",
      "                        precision    recall  f1-score   support\n",
      "\n",
      "                 Books       0.96      0.96      0.96      2387\n",
      "Clothing & Accessories       0.96      0.95      0.96      1744\n",
      "           Electronics       0.94      0.93      0.93      2067\n",
      "             Household       0.94      0.96      0.95      3887\n",
      "\n",
      "              accuracy                           0.95     10085\n",
      "             macro avg       0.95      0.95      0.95     10085\n",
      "          weighted avg       0.95      0.95      0.95     10085\n",
      "\n"
     ]
    }
   ],
   "source": [
    "dt_model = DecisionTreeClassifier(random_state=12345)\n",
    "dt_model.fit(X_train_tfidf, y_train)\n",
    "dt_predictions = dt_model.predict(X_test_tfidf)\n",
    "\n",
    "print(f\"Accuracy score for Decision Tree Model: {accuracy_score(y_test, dt_predictions)}\")\n",
    "print()\n",
    "print(classification_report(y_test, dt_predictions))"
   ]
  }
 ],
 "metadata": {
  "kernelspec": {
   "display_name": ".venv",
   "language": "python",
   "name": "python3"
  },
  "language_info": {
   "codemirror_mode": {
    "name": "ipython",
    "version": 3
   },
   "file_extension": ".py",
   "mimetype": "text/x-python",
   "name": "python",
   "nbconvert_exporter": "python",
   "pygments_lexer": "ipython3",
   "version": "3.12.7"
  }
 },
 "nbformat": 4,
 "nbformat_minor": 2
}
